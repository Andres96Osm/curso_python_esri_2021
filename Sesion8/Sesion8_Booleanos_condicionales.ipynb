{
 "cells": [
  {
   "cell_type": "markdown",
   "metadata": {},
   "source": [
    "#  Booleanos y Condicionales\n"
   ]
  },
  {
   "cell_type": "markdown",
   "metadata": {},
   "source": [
    "## Boleanos\n",
    "\n",
    "Una variable booleana es una variable que sólo puede tomar dos posibles valores: True (verdadero) o False (falso).En Python cualquier variable (en general, cualquier objeto) puede considerarse como una variable booleana. \n",
    "\n",
    "**En general cualquier elemento nulo, vacío o con valor de cero (0) se considera \"False\"**\n",
    "\n",
    "**El resto de elementos se considera True**"
   ]
  },
  {
   "cell_type": "code",
   "execution_count": 2,
   "metadata": {},
   "outputs": [],
   "source": [
    "a=0\n",
    "b=\"\"\n",
    "c=None\n",
    "d=False\n"
   ]
  },
  {
   "cell_type": "markdown",
   "metadata": {},
   "source": [
    "Para comprobar si una variable o una expresion es falsa o verdadera, se utiliza la función bool()."
   ]
  },
  {
   "cell_type": "code",
   "execution_count": 4,
   "metadata": {},
   "outputs": [
    {
     "data": {
      "text/plain": [
       "False"
      ]
     },
     "execution_count": 4,
     "metadata": {},
     "output_type": "execute_result"
    }
   ],
   "source": [
    "bool(c)"
   ]
  },
  {
   "cell_type": "markdown",
   "metadata": {},
   "source": [
    "Ahora comprobemos las varibles con valores diferentes a cero (0) o vacios."
   ]
  },
  {
   "cell_type": "code",
   "execution_count": 14,
   "metadata": {},
   "outputs": [],
   "source": [
    "e=10\n",
    "f=2.5\n",
    "g=True\n",
    "k=\"2\""
   ]
  },
  {
   "cell_type": "code",
   "execution_count": 15,
   "metadata": {},
   "outputs": [
    {
     "name": "stdout",
     "output_type": "stream",
     "text": [
      "2\n"
     ]
    }
   ],
   "source": [
    "#bool(e)\n",
    "#bool(k)\n",
    "#bool(g)\n",
    "print(int(k))"
   ]
  },
  {
   "cell_type": "markdown",
   "metadata": {},
   "source": [
    "Es importante resaltar que los tipos de datos booleanos, son en realidad una subclase del tipo **entero**. En este caso el tipo booleano False tiene como valor cero(0) y el True tiene como valor (1)."
   ]
  },
  {
   "cell_type": "code",
   "execution_count": 9,
   "metadata": {},
   "outputs": [
    {
     "data": {
      "text/plain": [
       "0"
      ]
     },
     "execution_count": 9,
     "metadata": {},
     "output_type": "execute_result"
    }
   ],
   "source": [
    "int(False)\n"
   ]
  },
  {
   "cell_type": "code",
   "execution_count": 10,
   "metadata": {},
   "outputs": [
    {
     "data": {
      "text/plain": [
       "1"
      ]
     },
     "execution_count": 10,
     "metadata": {},
     "output_type": "execute_result"
    }
   ],
   "source": [
    "int(True)"
   ]
  },
  {
   "cell_type": "markdown",
   "metadata": {},
   "source": [
    "# Operadores Lógicos\n",
    "\n",
    "Los operadores lógicos son unas expresiones que trabajan con valores booleanos y se utilizan para tomar una decisión basada en múltiples condiciones. Los operadores lógicos utilizados en Python son:\n",
    "\n",
    "* and: \"y\", permite validar si dos expresiones son verdaderas.\n",
    "* or: \"o\", permite validar si una de las dos expresiones es verdadera\n",
    "* not: \"no\", permite negar el resulado de una expresion validada."
   ]
  },
  {
   "cell_type": "markdown",
   "metadata": {},
   "source": [
    "\n",
    "## Operador \"And\" o \"y\"\n",
    "\n",
    "El operador **\"And\"** o **\"y\"**, maneja los siguientes valores cuand se evaluan dos expresiones:\n",
    "* True **and** True = **True**\n",
    "* True **and** False = **False**\n",
    "* False **and** True = **False**\n",
    "* False **and** False = **False**"
   ]
  },
  {
   "cell_type": "code",
   "execution_count": 17,
   "metadata": {},
   "outputs": [
    {
     "data": {
      "text/plain": [
       "False"
      ]
     },
     "execution_count": 17,
     "metadata": {},
     "output_type": "execute_result"
    }
   ],
   "source": [
    "True and False"
   ]
  },
  {
   "cell_type": "code",
   "execution_count": 18,
   "metadata": {},
   "outputs": [
    {
     "data": {
      "text/plain": [
       "False"
      ]
     },
     "execution_count": 18,
     "metadata": {},
     "output_type": "execute_result"
    }
   ],
   "source": [
    "False and False"
   ]
  },
  {
   "cell_type": "markdown",
   "metadata": {},
   "source": [
    "## Operador \"Or\" o \"o\"\n",
    "\n",
    "El operador **\"Or\"** o **\"o\"**, maneja los siguiente valores cuando se evaluan dos expresiones:\n",
    "\n",
    "* True **or** True = **True**\n",
    "* True **or** False = **True**\n",
    "* False **or** True = **True**\n",
    "* False **or** False = **False**"
   ]
  },
  {
   "cell_type": "code",
   "execution_count": 19,
   "metadata": {},
   "outputs": [
    {
     "data": {
      "text/plain": [
       "True"
      ]
     },
     "execution_count": 19,
     "metadata": {},
     "output_type": "execute_result"
    }
   ],
   "source": [
    "True or False"
   ]
  },
  {
   "cell_type": "code",
   "execution_count": 20,
   "metadata": {},
   "outputs": [
    {
     "data": {
      "text/plain": [
       "False"
      ]
     },
     "execution_count": 20,
     "metadata": {},
     "output_type": "execute_result"
    }
   ],
   "source": [
    "False or False"
   ]
  },
  {
   "cell_type": "markdown",
   "metadata": {},
   "source": [
    "## Operador \"Not\" o \"negación\"\n",
    "\n",
    "El operador **\"Not\"** o **\"negación\"**, maneja los siguiente valores cuando se evaluan dos expresiones:\n",
    "\n",
    "* **\"Not\"** True = **False**\n",
    "* **\"No\"** False = **True**\n"
   ]
  },
  {
   "cell_type": "code",
   "execution_count": 21,
   "metadata": {},
   "outputs": [
    {
     "data": {
      "text/plain": [
       "False"
      ]
     },
     "execution_count": 21,
     "metadata": {},
     "output_type": "execute_result"
    }
   ],
   "source": [
    "not True"
   ]
  },
  {
   "cell_type": "markdown",
   "metadata": {},
   "source": [
    "Vamos a evaluar las siguientes expresiones. Antes de ejecutarlas en este notebook, realice el ejercicio mental y comparelo con el resultado."
   ]
  },
  {
   "cell_type": "code",
   "execution_count": 22,
   "metadata": {},
   "outputs": [
    {
     "data": {
      "text/plain": [
       "4"
      ]
     },
     "execution_count": 22,
     "metadata": {},
     "output_type": "execute_result"
    }
   ],
   "source": [
    "(3 and 4)"
   ]
  },
  {
   "cell_type": "code",
   "execution_count": 23,
   "metadata": {},
   "outputs": [
    {
     "data": {
      "text/plain": [
       "True"
      ]
     },
     "execution_count": 23,
     "metadata": {},
     "output_type": "execute_result"
    }
   ],
   "source": [
    "2 == 1 + 1"
   ]
  },
  {
   "cell_type": "code",
   "execution_count": 25,
   "metadata": {},
   "outputs": [
    {
     "data": {
      "text/plain": [
       "True"
      ]
     },
     "execution_count": 25,
     "metadata": {},
     "output_type": "execute_result"
    }
   ],
   "source": [
    "6 / 4 != 3"
   ]
  },
  {
   "cell_type": "markdown",
   "metadata": {},
   "source": [
    "**Tambien puedo evaluar expresiones compuestas !!**"
   ]
  },
  {
   "cell_type": "code",
   "execution_count": 27,
   "metadata": {},
   "outputs": [
    {
     "data": {
      "text/plain": [
       "False"
      ]
     },
     "execution_count": 27,
     "metadata": {},
     "output_type": "execute_result"
    }
   ],
   "source": [
    "(4 == 3 + 1)  and (3 + 1 > 12)"
   ]
  },
  {
   "cell_type": "code",
   "execution_count": 28,
   "metadata": {},
   "outputs": [
    {
     "data": {
      "text/plain": [
       "False"
      ]
     },
     "execution_count": 28,
     "metadata": {},
     "output_type": "execute_result"
    }
   ],
   "source": [
    "2 != 1 + 1 and 1 + 1 > 0"
   ]
  },
  {
   "cell_type": "code",
   "execution_count": 32,
   "metadata": {},
   "outputs": [],
   "source": [
    "a=b=c=d=3"
   ]
  },
  {
   "cell_type": "code",
   "execution_count": 33,
   "metadata": {},
   "outputs": [
    {
     "name": "stdout",
     "output_type": "stream",
     "text": [
      "3\n"
     ]
    }
   ],
   "source": [
    "print(d)"
   ]
  },
  {
   "cell_type": "markdown",
   "metadata": {},
   "source": [
    "## Condicionales\n",
    "\n",
    "Para escribir programas útiles, casi siempre necesitamos la capacidad de comprobar ciertas condiciones y cambiar el comportamiento del programa como corresponda. Las sentencias condicionales nos dan esta capacidad. Esta estructura permite condicionar la ejecución de uno o varios bloques de sentencias al cumplimiento de una o varias condiciones.\n",
    "\n",
    "Por ejemplo cuando digo **si llueve cojo el paragua**, la acción de que coja el paraguas se producirá en caso de que se cumpla la condición de que **está lloviendo**. Esto traducido a la programación significa que **cierta parte del código** sólo se **ejecutará** en caso de que se **cumplan ciertas condiciones**. \n",
    "\n",
    "Las sentencias condicionales cumplen con dicha función. Nos ayudan a controlar el flujo de nuestro programa, decidiendo si unas líneas de código se tienen que ejecutar en función de si se cumplen unas condiciones preestablecidas. \n",
    "\n",
    "**En concreto, comprueban si una condición es verdadera o falsa para tomar o no cierta acción¡¡**\n",
    "\n",
    "Existen tres sentencias condicionales que nos permiten definir la manera como se comportará nuestro codigo:\n",
    "\n",
    "1. Sentencia if\n",
    "2. Sentencia else\n",
    "3. Sentencia elif\n",
    "\n"
   ]
  },
  {
   "cell_type": "markdown",
   "metadata": {},
   "source": [
    "\n",
    "## Sentencia if\n",
    "\n",
    "La sentencia o estructura de control **if**, permite que un programa ejecute una o varias instrucciones cuando se cumplan una condición. \n",
    "\n",
    "Esta es la sentencia condicional más básica en Python y se expresa de la siguiente forma:\n",
    "\n",
    "**if** condición:\n",
    "    # Código a ejecutar\n",
    "\n",
    "\n",
    "    \n",
    "Veamos un ejemplo:"
   ]
  },
  {
   "cell_type": "code",
   "execution_count": 37,
   "metadata": {},
   "outputs": [],
   "source": [
    "# asigne un valor a la variable a\n",
    "a=21\n",
    "\n",
    "if a < 20:\n",
    "    print(\"El numero {} es menor a 20\".format(a))"
   ]
  },
  {
   "cell_type": "code",
   "execution_count": 42,
   "metadata": {},
   "outputs": [
    {
     "name": "stdout",
     "output_type": "stream",
     "text": [
      "El numero 2 es menor a 20\n",
      "La expresión es verdadera\n"
     ]
    }
   ],
   "source": [
    "# asigne un valor a la variable a\n",
    "a=2\n",
    "\n",
    "if a < 20:\n",
    "    print(\"El numero {} es menor a 20\".format(a))\n",
    "    print(\"La expresión es verdadera\")"
   ]
  },
  {
   "cell_type": "markdown",
   "metadata": {},
   "source": [
    "Para tener en cuenta:\n",
    "\n",
    "* La condición es una expresión booleana que se evalúa como verdadera (True) o falsa (False).\n",
    "* Se requiere el uso de dos puntos (:) al final de la condición.\n",
    "* Todas las líneas de código a ejecutar, si se cumple la condición, tienen que estar indentadas respecto la sentencia if."
   ]
  },
  {
   "cell_type": "code",
   "execution_count": 44,
   "metadata": {},
   "outputs": [],
   "source": [
    "x = 15\n",
    "if x > 10:\n",
    "    print(\"{} es mayor que 10\".format(x))\n",
    "    print(\"{} es un numero entero positivo\".format(x))"
   ]
  },
  {
   "cell_type": "markdown",
   "metadata": {},
   "source": [
    "\n",
    "## Sentencia else\n",
    "\n",
    "La sentencia o estructura de control **else**, permite que un programa ejecute una o varias instrucciones cuando la condición de la sentencia **if** no se cumpla. \n",
    "\n",
    "Esta estructura se expresa de la siguiente forma:\n",
    "\n",
    "**if** condición:\n",
    "    # Código a ejecutar\n",
    "**else**\n",
    "    # Código a ejecutar cuando la condicion no se cumple\n",
    "\n",
    "\n",
    "    \n",
    "Veamos un ejemplo:"
   ]
  },
  {
   "cell_type": "code",
   "execution_count": 48,
   "metadata": {},
   "outputs": [
    {
     "name": "stdout",
     "output_type": "stream",
     "text": [
      "El numero 16 es menor a 20\n"
     ]
    }
   ],
   "source": [
    "# asigne un valor a la variable a\n",
    "a=16\n",
    "\n",
    "if a < 20:\n",
    "    print(\"El numero {} es menor a 20\".format(a))\n",
    "else:\n",
    "    print(\"El numero {} es mayor a 20\".format(a))"
   ]
  },
  {
   "cell_type": "markdown",
   "metadata": {},
   "source": [
    "Otro ejemplo:"
   ]
  },
  {
   "cell_type": "code",
   "execution_count": 50,
   "metadata": {},
   "outputs": [
    {
     "name": "stdout",
     "output_type": "stream",
     "text": [
      "7 es un numero entero positivo\n"
     ]
    }
   ],
   "source": [
    "x = 7\n",
    "if x > 0:\n",
    "    print(\"{} es un numero entero positivo\".format(x))\n",
    "else:\n",
    "    print(\"{} es un numero entero negativo\".format(x))"
   ]
  },
  {
   "cell_type": "markdown",
   "metadata": {},
   "source": [
    "## Ojo¡¡ lo que no debemos hacer¡¡\n",
    "\n",
    "Por motivos de eficiencia y complejidad al momento de diseñar un codigo, no debemos evaluar con dos bloques de **sentencias if**  por lo siguiente:\n",
    "\n",
    "* Al poner dos bloques if estamos obligando a Python a evaluar siempre las dos condiciones, mientras que en un bloque if ... else ... sólo se evalúa una condición. \n",
    "* En un programa sencillo la diferencia no es apreciable, pero en programas que ejecutan muchas comparaciones, el impacto puede ser apreciable.\n",
    "* Utilizando else nos ahorramos escribir una condición (además, escribiendo la condición nos podemos equivocar, pero escribiendo else no).\n",
    "* utilizando if ... else nos aseguramos de que se ejecuta uno de los dos bloques de instrucciones. Utilizando dos if cabría la posibilidad de que no se cumpliera ninguna de las dos condiciones y no se ejecutara ninguno de los dos bloques de instrucciones."
   ]
  },
  {
   "cell_type": "code",
   "execution_count": 53,
   "metadata": {},
   "outputs": [
    {
     "name": "stdout",
     "output_type": "stream",
     "text": [
      "11 es mayor a 10\n"
     ]
    }
   ],
   "source": [
    "x = 11\n",
    "if x > 10:\n",
    "    print(\"{} es mayor a 10\".format(x))\n",
    "if x < 10:\n",
    "    print(\"{} es menor a 10\".format(x))"
   ]
  },
  {
   "cell_type": "markdown",
   "metadata": {},
   "source": [
    "\n",
    "## Sentencia elif\n",
    "\n",
    "La sentencia o estructura de control **elif**, permite que un programa ejecute una o varias instrucciones utilizando varias expresiones de evaluación o condicionales dentro del codigo a ejecutar. \n",
    "\n",
    "Esta estructura se expresa de la siguiente forma:\n",
    "\n",
    "**if** condición:\n",
    "    # Código a ejecutar\n",
    "**elif** condición 2:\n",
    "    # Código a ejecutar cuando la condicion 1 no se cumple pero la condicion 2 si se cumple\n",
    "**elif** condición 3:\n",
    "    # Código a ejecutar cuando la condicion 1,2 no se cumplen pero la condicion 3 si se cumple.\n",
    "**else:**\n",
    "    # Código a ejecutar cuando las condiciones anteriores no se cumplen.\n",
    "\n",
    "    \n",
    "Veamos un ejemplo:"
   ]
  },
  {
   "cell_type": "code",
   "execution_count": 55,
   "metadata": {},
   "outputs": [
    {
     "name": "stdout",
     "output_type": "stream",
     "text": [
      "El número es igual a 10\n"
     ]
    }
   ],
   "source": [
    "x = 10\n",
    "if x > 10:\n",
    "    print(\"{} es mayor a 10\".format(x))\n",
    "elif x < 10:\n",
    "    print(\"{} es menor a 10\".format(x))\n",
    "else:\n",
    "    print(\"El número es igual a {}\".format(x))"
   ]
  },
  {
   "cell_type": "markdown",
   "metadata": {},
   "source": []
  },
  {
   "cell_type": "markdown",
   "metadata": {},
   "source": [
    "# Vamos a practicar\n",
    "\n",
    "En este punto ya hemos visto una gran cantidad de conceptos basicos que podemos aplicar en los siguientes ejercicios. Conceptos tales como:\n",
    "1. Tipos de datos\n",
    "2. Variables\n",
    "3. Cadenas de caracteres, datos numericos\n",
    "4. Mensajes en pantalla\n",
    "5. Booleanos y condionales (tema fresquito)\n",
    "\n",
    "## Ejercicio 1\n",
    "\n",
    "### Vamos a utilizar 3 variables con 3 valores que seran ingresados por el usuario. De estos tres valores, vamos a indicar cual es el valor mayor."
   ]
  },
  {
   "cell_type": "markdown",
   "metadata": {},
   "source": [
    "Para realizar este ejercicio vamos a entender como se captura y/o ingresa y/o se lee informacion desde el teclado. La entrada de datos en Python, como es usual, se realiza de una manera bastante simple, a travéz de una función llamada **input()**.\n",
    "\n",
    "Esta función generará una interrupción en el programa, esperando por una entrada de datos. Este ingreso de información, se entiende como completad,  una vez el usuario presiona la tecla \"enter\" para confirmar que los datos ha sido ingresados.\n",
    "\n",
    "El input() se puede utilizar de dos formas:\n",
    "1. Utilizando la funcion **print()** para mostrar un mensaje en pantalla y posterior asignar el valor a una variable.\n",
    "2. Utilizando la opción de impresión(mensaje en pantalla) de la función **input()** y asignando el valor a la variable.\n",
    "\n",
    "Veamos los ejemplos para entender mejor.\n",
    "\n",
    "### Ejemplo 1\n"
   ]
  },
  {
   "cell_type": "code",
   "execution_count": 56,
   "metadata": {},
   "outputs": [
    {
     "name": "stdout",
     "output_type": "stream",
     "text": [
      "Por favor ingrese su nombre\n",
      "Su nombre es Omar\n"
     ]
    }
   ],
   "source": [
    "print(\"Por favor ingrese su nombre\")\n",
    "nombre=input()\n",
    "print(\"Su nombre es {}\".format(nombre))"
   ]
  },
  {
   "cell_type": "markdown",
   "metadata": {},
   "source": [
    "### Ejemplo 2"
   ]
  },
  {
   "cell_type": "code",
   "execution_count": 57,
   "metadata": {},
   "outputs": [
    {
     "name": "stdout",
     "output_type": "stream",
     "text": [
      "Su nombre es Omar\n"
     ]
    }
   ],
   "source": [
    "nombre=input(\"Por favor ingrese su nombre\")\n",
    "print(\"Su nombre es {}\".format(nombre))"
   ]
  },
  {
   "cell_type": "markdown",
   "metadata": {},
   "source": [
    "Es importante aclarar que todos los datos o informacion que leemos desde el teclado, se almacena en memoria como datos de tipo **String**. Es por esto que se deben utilizar funciones de conversion para poder capturar o leer datos de tipo **entero (int)** o de tipo **decimal (float)**. Para esta conversión de usa lo siguiente:\n",
    "\n",
    "1. Texto a entero: Se utiliza la función **int()**.\n",
    "2. Texto a decimal: Se utiliza la función **float()**.\n",
    "\n",
    "Veamos un ejemplo:"
   ]
  },
  {
   "cell_type": "code",
   "execution_count": 58,
   "metadata": {},
   "outputs": [
    {
     "name": "stdout",
     "output_type": "stream",
     "text": [
      "La variable a cuyo valor es Omar es de tipo <class 'str'>\n",
      "La variable b cuyo valor es 12 es de tipo <class 'int'>\n",
      "La variable c cuyo valor es 34.0 es de tipo <class 'float'>\n"
     ]
    }
   ],
   "source": [
    "a=input(\"Por favor ingrese su nombre\")\n",
    "b=int(input(\"Por favor ingrese un numero\"))\n",
    "c=float(input(\"Por favor ingrese otro numero\"))\n",
    "\n",
    "print(\"La variable a cuyo valor es {} es de tipo {}\".format(a,type(a)))\n",
    "print(\"La variable b cuyo valor es {} es de tipo {}\".format(b,type(b)))\n",
    "print(\"La variable c cuyo valor es {} es de tipo {}\".format(c,type(c)))"
   ]
  },
  {
   "cell_type": "markdown",
   "metadata": {},
   "source": [
    "Ya entendiendo un poco lo anterior realicemos el ejercicio....\n",
    "\n",
    "### Vamos a utilizar 3 variables con 3 valores que seran ingresados por el usuario. De estos tres valores, vamos a indicar cual es el valor mayor."
   ]
  },
  {
   "cell_type": "code",
   "execution_count": null,
   "metadata": {},
   "outputs": [],
   "source": [
    "# Variables\n",
    "mayor=0\n",
    "\n",
    "# Lectura de datos\n",
    "\n",
    "# Evaluación de datos\n",
    "\n",
    "# Resultados"
   ]
  },
  {
   "cell_type": "markdown",
   "metadata": {},
   "source": [
    "### Ejercicio 2\n",
    "\n",
    "Ahora vamos a utilizar 5 variables de tipo entero. De acuerdo a los valores ingresados debemos realizar lo siguiente:\n",
    "1. Imprimir si el entero 1 es par o impar.\n",
    "2. Imprimir si el entero 2 es multiplo de 3.\n",
    "3. Imprimir si el entero 3 es mayor que el entero 4.\n",
    "4. Imprimir si el entero 5 es mayor a entero 3 y 4.\n",
    "5. Piense en una operación y muestre su resultado.\n"
   ]
  },
  {
   "cell_type": "code",
   "execution_count": null,
   "metadata": {},
   "outputs": [],
   "source": []
  },
  {
   "cell_type": "markdown",
   "metadata": {},
   "source": [
    "### Ejercicio 3\n",
    "\n",
    "Ahora vamos a ingresar 3 notas parciales (indique al usuario que la nota va de 0 a 5) que equivalen al 35%, al 40% y 25%. De acuerdo a lo anterior indique:\n",
    "1. Nota final.\n",
    "2. Imprimir si Aprobo o no. Se aprueba con un valor superior a 3,5.\n"
   ]
  },
  {
   "cell_type": "code",
   "execution_count": null,
   "metadata": {},
   "outputs": [],
   "source": []
  }
 ],
 "metadata": {
  "kernelspec": {
   "display_name": "Python 3",
   "language": "python",
   "name": "python3"
  },
  "language_info": {
   "codemirror_mode": {
    "name": "ipython",
    "version": 3
   },
   "file_extension": ".py",
   "mimetype": "text/x-python",
   "name": "python",
   "nbconvert_exporter": "python",
   "pygments_lexer": "ipython3",
   "version": "3.7.9"
  }
 },
 "nbformat": 4,
 "nbformat_minor": 4
}
