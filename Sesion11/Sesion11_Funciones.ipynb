{
 "cells": [
  {
   "cell_type": "markdown",
   "metadata": {},
   "source": [
    "# Sesión número 11 curso Python<!-- omit in toc -->\n",
    "\n",
    "- Funciones"
   ]
  },
  {
   "cell_type": "markdown",
   "metadata": {},
   "source": [
    "Ya hermos visto conceptos importantes que nos van a permitir empezar a resolver problemas:\n",
    "* Conocemos los tipos de datos con los cuales puedo modelar computacionalmente un algoritmo (strings, int, float, booleanos, listas, tuplas, diccionarios)\n",
    "* Sabemos como tomar decisiones (if, elif, else)\n",
    "* Sabemos como iterar (for, while loops) para poder aprovechar el poder de la recursividad computacional."
   ]
  },
  {
   "cell_type": "markdown",
   "metadata": {},
   "source": [
    "## Piensa siempre en una función, como una máquina que te pide algo de entrada y te entrega un resultado"
   ]
  },
  {
   "cell_type": "markdown",
   "metadata": {},
   "source": [
    "# Abstracción\n",
    "\n",
    "No necesito saber internamente como funciona algo para poderlo utilizar.\n",
    "Quiero saber como y cuando utilizar código. Aquí viene lo importante: **Las funciones me permiten aislar código para poder utilizarlo sin preocuparme por como está construido internamente**"
   ]
  },
  {
   "cell_type": "markdown",
   "metadata": {},
   "source": [
    "Ejemplos:\n",
    "* Arcpy es una liberia desarrollada por esri. No se como está construida internamente pero puedo acceder a las funciones, métodos, clases, etc y utilizarlas.\n",
    "* La libreria os, que veremos mas adelante; me permite acceder a funciones para manipular elementos del sistema.\n"
   ]
  },
  {
   "cell_type": "markdown",
   "metadata": {},
   "source": [
    "## Sintaxis de las funciones\n",
    "\n",
    "Sintaxis\n",
    "En Python, una definición de función tiene las siguientes características:\n",
    "\n",
    "* La palabra clave def\n",
    "* Un nombre de función\n",
    "* Paréntesis ’()’, y dentro de los paréntesis los parámetros de entrada, aunque los parámetros de entrada sean opcionales. **Los parámetros pueden ser posicionales o de palabras reservadas. Como veremos mas adelante**\n",
    "* Dos puntos ’:’\n",
    "* Algún bloque de código para ejecutar\n",
    "* Una sentencia de retorno (opcional)"
   ]
  },
  {
   "cell_type": "code",
   "execution_count": 56,
   "metadata": {},
   "outputs": [],
   "source": [
    "def funcion_saludo(): # ejemplo de una funcion sin parametros\n",
    "    return \"Hola mundo\""
   ]
  },
  {
   "cell_type": "code",
   "execution_count": 70,
   "metadata": {},
   "outputs": [
    {
     "data": {
      "text/plain": [
       "'Hola mundo'"
      ]
     },
     "execution_count": 70,
     "metadata": {},
     "output_type": "execute_result"
    }
   ],
   "source": [
    "funcion_saludo() # llamada a la función, 'Hola mundo' se muestra en la consola"
   ]
  },
  {
   "cell_type": "markdown",
   "metadata": {},
   "source": [
    "Las funciones son **bloques de código que se pueden reutilizar simplemente llamando a la función. Esto permite la reutilización de código simple y elegante sin volver a escribir explícitamente secciones de código**. DRY (dont repeat yourself) Esto hace que el código sea más legible, facilita la depuración y limita los errores de escritura."
   ]
  },
  {
   "cell_type": "markdown",
   "metadata": {},
   "source": [
    "Una función siempre devuelve un valor. La función utiliza la palabra clave return  para devolver un valor; si no desea devolver ningún valor, se devolverá el valor predeterminado None."
   ]
  },
  {
   "cell_type": "markdown",
   "metadata": {},
   "source": [
    "La programación estruturada (ejemplos de problemas resueltos hasta el momento) me permite resover problemas, pero es dificil de mantener este código en el tiempo"
   ]
  },
  {
   "cell_type": "markdown",
   "metadata": {},
   "source": [
    "### Veamos un ejemplo de funciones con parámetros"
   ]
  },
  {
   "cell_type": "code",
   "execution_count": 59,
   "metadata": {},
   "outputs": [],
   "source": [
    "# esta es una función básica de suma\n",
    "def suma(a, b): #recibe un parametro a y un parametro b Estos paraámetros son posicionales\n",
    "  return a + b\n"
   ]
  },
  {
   "cell_type": "markdown",
   "metadata": {},
   "source": [
    "puedo asignar la ejecución de una función y su resultado en una variable, el tipo de dat y resultado de la variable, dependerá del **return** de mi función"
   ]
  },
  {
   "cell_type": "code",
   "execution_count": 60,
   "metadata": {},
   "outputs": [],
   "source": [
    "\n",
    "result = suma(1, 2)\n",
    "# result = 3"
   ]
  },
  {
   "cell_type": "code",
   "execution_count": 12,
   "metadata": {},
   "outputs": [
    {
     "data": {
      "text/plain": [
       "3"
      ]
     },
     "execution_count": 12,
     "metadata": {},
     "output_type": "execute_result"
    }
   ],
   "source": [
    "result"
   ]
  },
  {
   "cell_type": "code",
   "execution_count": 76,
   "metadata": {},
   "outputs": [
    {
     "data": {
      "text/plain": [
       "14.5"
      ]
     },
     "execution_count": 76,
     "metadata": {},
     "output_type": "execute_result"
    }
   ],
   "source": [
    "suma (7,7.5)"
   ]
  },
  {
   "cell_type": "code",
   "execution_count": 64,
   "metadata": {},
   "outputs": [
    {
     "data": {
      "text/plain": [
       "[2, 3, 4, 5]"
      ]
     },
     "execution_count": 64,
     "metadata": {},
     "output_type": "execute_result"
    }
   ],
   "source": [
    "suma ([2,3],[4,5])"
   ]
  },
  {
   "cell_type": "markdown",
   "metadata": {},
   "source": [
    "Se pueden definir valores predeterminados para los parámetros, de esa manera Python interpretará que el valor de ese parámetro es el predeterminado si no se proporciona ninguno."
   ]
  },
  {
   "cell_type": "code",
   "execution_count": 65,
   "metadata": {},
   "outputs": [],
   "source": [
    "def suma(a, b=3): #parametro b con palabra reservada\n",
    "  return a + b\n"
   ]
  },
  {
   "cell_type": "code",
   "execution_count": 68,
   "metadata": {},
   "outputs": [
    {
     "name": "stdout",
     "output_type": "stream",
     "text": [
      "4\n"
     ]
    }
   ],
   "source": [
    "\n",
    "result = suma(1) # solo paso el parametro a, y por defecto queda el parametro b con valor de 3\n",
    "print (result)"
   ]
  },
  {
   "cell_type": "markdown",
   "metadata": {},
   "source": [
    "veamos otro ejemplo"
   ]
  },
  {
   "cell_type": "code",
   "execution_count": 87,
   "metadata": {},
   "outputs": [],
   "source": [
    "def saludar(mañana = False, tarde = None, noche = None): # parametros con palabras reservadas\n",
    "    if mañana:\n",
    "        return (\"Buen dia\")\n",
    "    elif tarde:\n",
    "        return (\"Buena tarde\")\n",
    "    elif noche:\n",
    "        return (\"Buena noche\")\n",
    "    else:\n",
    "        return (\"No ingresaste un momento del dia para saludar. Hasta luego\")"
   ]
  },
  {
   "cell_type": "code",
   "execution_count": 77,
   "metadata": {},
   "outputs": [
    {
     "data": {
      "text/plain": [
       "'No ingresaste un momento del dia para saludar. Hasta luego'"
      ]
     },
     "execution_count": 77,
     "metadata": {},
     "output_type": "execute_result"
    }
   ],
   "source": [
    "saludar() # retorno de mi función sin pasar parámetros"
   ]
  },
  {
   "cell_type": "code",
   "execution_count": 84,
   "metadata": {},
   "outputs": [],
   "source": [
    "mañana = True"
   ]
  },
  {
   "cell_type": "code",
   "execution_count": 85,
   "metadata": {},
   "outputs": [
    {
     "data": {
      "text/plain": [
       "'Buen dia'"
      ]
     },
     "execution_count": 85,
     "metadata": {},
     "output_type": "execute_result"
    }
   ],
   "source": [
    "saludar(mañana)"
   ]
  },
  {
   "cell_type": "code",
   "execution_count": 79,
   "metadata": {},
   "outputs": [
    {
     "data": {
      "text/plain": [
       "'Buena tarde'"
      ]
     },
     "execution_count": 79,
     "metadata": {},
     "output_type": "execute_result"
    }
   ],
   "source": [
    "saludar(tarde = True)"
   ]
  },
  {
   "cell_type": "code",
   "execution_count": 80,
   "metadata": {},
   "outputs": [
    {
     "data": {
      "text/plain": [
       "'Buena noche'"
      ]
     },
     "execution_count": 80,
     "metadata": {},
     "output_type": "execute_result"
    }
   ],
   "source": [
    "saludar (noche = True)"
   ]
  },
  {
   "cell_type": "code",
   "execution_count": 91,
   "metadata": {},
   "outputs": [
    {
     "data": {
      "text/plain": [
       "'Buena tarde'"
      ]
     },
     "execution_count": 91,
     "metadata": {},
     "output_type": "execute_result"
    }
   ],
   "source": [
    "saludar(False,True)"
   ]
  },
  {
   "cell_type": "markdown",
   "metadata": {},
   "source": [
    "Veamos un ejemplo mas avanzado con parámetros"
   ]
  },
  {
   "cell_type": "code",
   "execution_count": 92,
   "metadata": {},
   "outputs": [],
   "source": [
    "def informacion_personal(*args, **kwargs): # esto me permite pasar un numero arbitrario de parametros posicionales o parametros con palabras reservadas\n",
    "    print (args)\n",
    "    print (kwargs) \n",
    "    return "
   ]
  },
  {
   "cell_type": "markdown",
   "metadata": {},
   "source": [
    "Por convención siemrpe finalizo una funcion con un return asi la función no me retorne ningun valor, como en este caso que simplemente imprime argumentos posicinales y argumentos de palabras reservadas"
   ]
  },
  {
   "cell_type": "code",
   "execution_count": 93,
   "metadata": {},
   "outputs": [
    {
     "name": "stdout",
     "output_type": "stream",
     "text": [
      "()\n",
      "{}\n"
     ]
    }
   ],
   "source": [
    "informacion_personal()"
   ]
  },
  {
   "cell_type": "code",
   "execution_count": 94,
   "metadata": {},
   "outputs": [
    {
     "name": "stdout",
     "output_type": "stream",
     "text": [
      "('fabian', 22)\n",
      "{'ocupacion': 'dev', 'gustos': 'ciclismo, viajar'}\n"
     ]
    }
   ],
   "source": [
    "informacion_personal(\"fabian\", 22, ocupacion = \"dev\", gustos = \"ciclismo, viajar\")"
   ]
  },
  {
   "cell_type": "code",
   "execution_count": 95,
   "metadata": {},
   "outputs": [],
   "source": [
    "info_basica = ('fabian', 22)\n",
    "gustos = {'ocupacion': 'dev', 'gustos': 'ciclismo, viajar'}"
   ]
  },
  {
   "cell_type": "code",
   "execution_count": 96,
   "metadata": {},
   "outputs": [
    {
     "name": "stdout",
     "output_type": "stream",
     "text": [
      "('fabian', 22)\n",
      "{'ocupacion': 'dev', 'gustos': 'ciclismo, viajar'}\n"
     ]
    }
   ],
   "source": [
    "informacion_personal(*info_basica, **gustos)"
   ]
  },
  {
   "cell_type": "markdown",
   "metadata": {},
   "source": [
    "### puedo llamar funciones dentro de funciones"
   ]
  },
  {
   "cell_type": "code",
   "execution_count": 106,
   "metadata": {},
   "outputs": [],
   "source": [
    "def sumar(a, b): #recibe un parametro a y un parametro b Estos paraámetros son posicionales\n",
    "  return a + b\n",
    "\n"
   ]
  },
  {
   "cell_type": "code",
   "execution_count": 151,
   "metadata": {},
   "outputs": [],
   "source": [
    "def calculadora_suma (c,d,suma = None, multiplica =None):\n",
    "    def multiplicar2(a,b):\n",
    "        return a*b\n",
    "    resultadoSuma = None\n",
    "    resultadoMultiplica = None\n",
    "    if suma and multiplica:\n",
    "        print (\"vamos a sumar tus valores ingresados: {0}, {1}\".format(c,d))\n",
    "        resultadoSuma = sumar(c,d)\n",
    "        print (\"vamos a multiplicar tus valores ingresados: {0}, {1}\".format(c,d))\n",
    "        resultadoMultiplica = multiplicar(c,d)\n",
    "    else:\n",
    "        if suma:\n",
    "            print (\"vamos a sumar tus valores ingresados: {0}, {1}\".format(c,d))\n",
    "            resultadoSuma = sumar(c,d) \n",
    "            print (\"El resultado es: {0}\".format(resultadoSuma))\n",
    "\n",
    "        elif multiplica:\n",
    "            print (\"vamos a multiplicar tus valores ingresados: {0}, {1}\".format(c,d))\n",
    "            resultadoMultiplica = multiplicar2(c,d) \n",
    "            print (\"El resultado es: {0}\".format(resultadoMultiplica))\n",
    "    \n",
    "\n",
    "    return (resultadoSuma,resultadoMultiplica)\n",
    "\n"
   ]
  },
  {
   "cell_type": "code",
   "execution_count": 154,
   "metadata": {},
   "outputs": [],
   "source": [
    "if '__name__' == '__main__':\n",
    "    pass"
   ]
  },
  {
   "cell_type": "code",
   "execution_count": 152,
   "metadata": {},
   "outputs": [
    {
     "ename": "NameError",
     "evalue": "name 'multiplicar2' is not defined",
     "output_type": "error",
     "traceback": [
      "\u001b[1;31m---------------------------------------------------------------------------\u001b[0m",
      "\u001b[1;31mNameError\u001b[0m                                 Traceback (most recent call last)",
      "\u001b[1;32m<ipython-input-152-dd021df200cb>\u001b[0m in \u001b[0;36m<module>\u001b[1;34m\u001b[0m\n\u001b[1;32m----> 1\u001b[1;33m \u001b[0mmultiplicar2\u001b[0m \u001b[1;33m(\u001b[0m\u001b[1;36m5\u001b[0m\u001b[1;33m,\u001b[0m\u001b[1;36m2\u001b[0m\u001b[1;33m)\u001b[0m\u001b[1;33m\u001b[0m\u001b[1;33m\u001b[0m\u001b[0m\n\u001b[0m",
      "\u001b[1;31mNameError\u001b[0m: name 'multiplicar2' is not defined"
     ]
    }
   ],
   "source": [
    "multiplicar2 (5,2)"
   ]
  },
  {
   "cell_type": "code",
   "execution_count": 146,
   "metadata": {},
   "outputs": [
    {
     "name": "stdout",
     "output_type": "stream",
     "text": [
      "vamos a sumar tus valores ingresados: 5, 2\n",
      "El resultado es: 7\n"
     ]
    },
    {
     "data": {
      "text/plain": [
       "(7, None)"
      ]
     },
     "execution_count": 146,
     "metadata": {},
     "output_type": "execute_result"
    }
   ],
   "source": [
    "calculadora_suma(5,2, suma= True)"
   ]
  },
  {
   "cell_type": "code",
   "execution_count": 153,
   "metadata": {},
   "outputs": [
    {
     "name": "stdout",
     "output_type": "stream",
     "text": [
      "vamos a multiplicar tus valores ingresados: 5, 2\n",
      "El resultado es: 10\n"
     ]
    },
    {
     "data": {
      "text/plain": [
       "(None, 10)"
      ]
     },
     "execution_count": 153,
     "metadata": {},
     "output_type": "execute_result"
    }
   ],
   "source": [
    "calculadora_suma(5,2, multiplica= True)"
   ]
  },
  {
   "cell_type": "markdown",
   "metadata": {},
   "source": [
    "## Puedo importar funciones desde otros archivos que esten al mismo nivel"
   ]
  },
  {
   "cell_type": "code",
   "execution_count": 141,
   "metadata": {},
   "outputs": [],
   "source": [
    "# En este caso importaremos el archivo funciones.py\n",
    "import funciones"
   ]
  },
  {
   "cell_type": "code",
   "execution_count": 142,
   "metadata": {},
   "outputs": [],
   "source": [
    "suma = funciones.sumar(5,2)"
   ]
  },
  {
   "cell_type": "code",
   "execution_count": 143,
   "metadata": {},
   "outputs": [
    {
     "name": "stdout",
     "output_type": "stream",
     "text": [
      "7\n"
     ]
    }
   ],
   "source": [
    "print (suma)"
   ]
  },
  {
   "cell_type": "markdown",
   "metadata": {},
   "source": [
    "Ejercicios\n",
    "\n",
    "* Hacer una funcion que me permita determinar si una palabra es palindromo\n",
    "* Hacer una funcion que me permita calcular un factorial\n",
    "* Hacer una función que me permita contar las vocales de una cadena y reemplazarlas por un valor diferente las vocales\n",
    "* Hacer una función que me permita reslver la sucesión de fibonacci\n",
    "* Hacer una calculadora que me permita realziar operaciones matematicas basicas, con modulos aislasdos y que me imrima el resultado\n",
    "* Crear dos funciones para un programa que me permita indicar cual numero es mayor, menor y que tenga una salida del programa cuando haya -1"
   ]
  },
  {
   "cell_type": "code",
   "execution_count": null,
   "metadata": {},
   "outputs": [],
   "source": [
    "\"fabian\""
   ]
  }
 ],
 "metadata": {
  "interpreter": {
   "hash": "2ffc68a898cdf6ae2d053613cdf1702dd2070bde6aa15cd9ac7af3dacdaf0735"
  },
  "kernelspec": {
   "display_name": "Python 3.7.10 64-bit ('arcgispro-py3': conda)",
   "name": "python3"
  },
  "language_info": {
   "codemirror_mode": {
    "name": "ipython",
    "version": 3
   },
   "file_extension": ".py",
   "mimetype": "text/x-python",
   "name": "python",
   "nbconvert_exporter": "python",
   "pygments_lexer": "ipython3",
   "version": "3.7.10"
  },
  "orig_nbformat": 4
 },
 "nbformat": 4,
 "nbformat_minor": 2
}
