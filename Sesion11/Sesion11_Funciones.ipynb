{
 "cells": [
  {
   "cell_type": "markdown",
   "metadata": {},
   "source": [
    "# Sesión número 11 curso Python<!-- omit in toc -->\n",
    "\n",
    "- Funciones"
   ]
  },
  {
   "cell_type": "markdown",
   "metadata": {},
   "source": [
    "Ya hermos visto conceptos importantes que nos van a permitir empezar a resolver problemas:\n",
    "* Conocemos los tipos de datos con los cuales puedo modelar computacionalmente un algoritmo (strings, int, float, booleanos, listas, tuplas)\n",
    "* Sabemos como tomar decisiones (if, elif, else)\n",
    "* Sabemos como iterar (for, while loops) para poder aprovechar el poder de la recursividad computacional."
   ]
  },
  {
   "cell_type": "markdown",
   "metadata": {},
   "source": [
    "## Piensa siempre en una función, como una máquina que te pide algo de entrada y te entrega un resultado"
   ]
  },
  {
   "cell_type": "markdown",
   "metadata": {},
   "source": [
    "# Abstracción\n",
    "\n",
    "No necesito saber internamente como funciona algo para poderlo utilizar.\n",
    "Quiero saber como y cuando utilizar código. Aquí viene lo importante: **Las funciones me permiten aislar código para poder utilziarlo sin preocuparme por como está construido internamente**"
   ]
  },
  {
   "cell_type": "markdown",
   "metadata": {},
   "source": [
    "Ejemplos:\n",
    "* Arcpy es una liberia desarrollada por esri. No se como está construida internamente pero puedo acceder a las funciones, métodos, clases, etc y utilizarlas.\n",
    "* La libreria os, que veremos mas adelante; me permite acceder a funciones para manipular elementos del sistema.\n"
   ]
  },
  {
   "cell_type": "markdown",
   "metadata": {},
   "source": [
    "## Sintaxis de las funciones\n",
    "\n",
    "Sintaxis\n",
    "En Python, una definición de función tiene las siguientes características:\n",
    "\n",
    "* La palabra clave def\n",
    "* Un nombre de función\n",
    "* Paréntesis ’()’, y dentro de los paréntesis los parámetros de entrada, aunque los parámetros de entrada sean opcionales. **Los parámetros pueden ser posicionales o de palabras reservadas. Como veremos mas adelante**\n",
    "* Dos puntos ’:’\n",
    "* Algún bloque de código para ejecutar\n",
    "* Una sentencia de retorno (opcional)"
   ]
  },
  {
   "cell_type": "code",
   "execution_count": 7,
   "metadata": {},
   "outputs": [],
   "source": [
    "def funcion_saludo(): # ejemplo de una funcion sin parametros\n",
    "    return \"Hola mundo\""
   ]
  },
  {
   "cell_type": "code",
   "execution_count": 8,
   "metadata": {},
   "outputs": [
    {
     "data": {
      "text/plain": [
       "'Hola mundo'"
      ]
     },
     "execution_count": 8,
     "metadata": {},
     "output_type": "execute_result"
    }
   ],
   "source": [
    "funcion_saludo() # llamada a la función, 'Hola mundo' se muestra en la consola"
   ]
  },
  {
   "cell_type": "markdown",
   "metadata": {},
   "source": [
    "Las funciones son **bloques de código que se pueden reutilizar simplemente llamando a la función. Esto permite la reutilización de código simple y elegante sin volver a escribir explícitamente secciones de código**. Esto hace que el código sea más legible, facilita la depuración y limita los errores de escritura."
   ]
  },
  {
   "cell_type": "markdown",
   "metadata": {},
   "source": [
    "Una función siempre devuelve un valor. La función utiliza la palabra clave return  para devolver un valor; si no desea devolver ningún valor, se devolverá el valor predeterminado None."
   ]
  },
  {
   "cell_type": "markdown",
   "metadata": {},
   "source": [
    "La programación estruturada (ejemplos de problemas resuletos hasta el momento) me permite resover problemas, pero es dificil de mantener este código en el tiempo"
   ]
  },
  {
   "cell_type": "markdown",
   "metadata": {},
   "source": [
    "### Veamos un ejemplo de funciones con parámetros"
   ]
  },
  {
   "cell_type": "code",
   "execution_count": 31,
   "metadata": {},
   "outputs": [],
   "source": [
    "# esta es una función básica de suma\n",
    "def suma(a, b): #recibe un parametro a y un parametro b Estos paraámetros son posicionales\n",
    "  return a + b\n"
   ]
  },
  {
   "cell_type": "markdown",
   "metadata": {},
   "source": [
    "puedo asignar la ejecución de una función y su resultado en una variable, el tipo de dat y resultado de la variable, dependerá del **return** de mi función"
   ]
  },
  {
   "cell_type": "code",
   "execution_count": 10,
   "metadata": {},
   "outputs": [],
   "source": [
    "\n",
    "result = suma(1, 2)\n",
    "# result = 3"
   ]
  },
  {
   "cell_type": "code",
   "execution_count": 12,
   "metadata": {},
   "outputs": [
    {
     "data": {
      "text/plain": [
       "3"
      ]
     },
     "execution_count": 12,
     "metadata": {},
     "output_type": "execute_result"
    }
   ],
   "source": [
    "result"
   ]
  },
  {
   "cell_type": "markdown",
   "metadata": {},
   "source": [
    "Se pueden definir valores predeterminados para los parámetros, de esa manera Python interpretará que el valor de ese parámetro es el predeterminado si no se proporciona ninguno."
   ]
  },
  {
   "cell_type": "code",
   "execution_count": 32,
   "metadata": {},
   "outputs": [],
   "source": [
    "def suma(a, b=3): #parametro b con palabra reservada\n",
    "  return a + b\n"
   ]
  },
  {
   "cell_type": "code",
   "execution_count": 28,
   "metadata": {},
   "outputs": [
    {
     "name": "stdout",
     "output_type": "stream",
     "text": [
      "4\n"
     ]
    }
   ],
   "source": [
    "\n",
    "result = suma(1) # solo paso el parametro a, y por defecto queda el parametro b con valor de 3\n",
    "print (result)"
   ]
  },
  {
   "cell_type": "markdown",
   "metadata": {},
   "source": [
    "veamos otro ejemplo"
   ]
  },
  {
   "cell_type": "code",
   "execution_count": 33,
   "metadata": {},
   "outputs": [],
   "source": [
    "def saludar(mañana = None, tarde = None, noche = None): # parametros con palabras reservadas\n",
    "    if mañana:\n",
    "        return (\"Buen dia\")\n",
    "    elif tarde:\n",
    "        return (\"Buena tarde\")\n",
    "    elif noche:\n",
    "        return (\"Buena noche\")\n",
    "    else:\n",
    "        return (\"No ingresaste un momento del dia para saludar. Hasta luego\")"
   ]
  },
  {
   "cell_type": "code",
   "execution_count": 24,
   "metadata": {},
   "outputs": [
    {
     "data": {
      "text/plain": [
       "'No ingresaste un momento del dia para saludar. Hasta luego'"
      ]
     },
     "execution_count": 24,
     "metadata": {},
     "output_type": "execute_result"
    }
   ],
   "source": [
    "saludar() # retorno de mi función sin pasar parámetros"
   ]
  },
  {
   "cell_type": "code",
   "execution_count": 25,
   "metadata": {},
   "outputs": [
    {
     "data": {
      "text/plain": [
       "'Buen dia'"
      ]
     },
     "execution_count": 25,
     "metadata": {},
     "output_type": "execute_result"
    }
   ],
   "source": [
    "saludar(mañana= True)"
   ]
  },
  {
   "cell_type": "code",
   "execution_count": 26,
   "metadata": {},
   "outputs": [
    {
     "data": {
      "text/plain": [
       "'Buena tarde'"
      ]
     },
     "execution_count": 26,
     "metadata": {},
     "output_type": "execute_result"
    }
   ],
   "source": [
    "saludar(tarde = True)"
   ]
  },
  {
   "cell_type": "code",
   "execution_count": 27,
   "metadata": {},
   "outputs": [
    {
     "data": {
      "text/plain": [
       "'Buena noche'"
      ]
     },
     "execution_count": 27,
     "metadata": {},
     "output_type": "execute_result"
    }
   ],
   "source": [
    "saludar (noche = True)"
   ]
  },
  {
   "cell_type": "code",
   "execution_count": 34,
   "metadata": {},
   "outputs": [
    {
     "data": {
      "text/plain": [
       "'Buen dia'"
      ]
     },
     "execution_count": 34,
     "metadata": {},
     "output_type": "execute_result"
    }
   ],
   "source": [
    "saludar(\"noche\")"
   ]
  },
  {
   "cell_type": "markdown",
   "metadata": {},
   "source": [
    "Veamos un ejemplo mas avanzado con parámetros"
   ]
  },
  {
   "cell_type": "code",
   "execution_count": 41,
   "metadata": {},
   "outputs": [],
   "source": [
    "def informacion_personal(*args, **kwargs): # esto me permite pasar un numero arbitrario de parametros posicionales o parametros con palabras reservadas\n",
    "    print (args)\n",
    "    print (kwargs) \n",
    "    return "
   ]
  },
  {
   "cell_type": "markdown",
   "metadata": {},
   "source": [
    "Por convención siemrpe finalizo una funcion con un return asi la función no me retorne ningun valor, como en este caso que simplemente imprime argumentos posicinales y argumentos de palabras reservadas"
   ]
  },
  {
   "cell_type": "code",
   "execution_count": 40,
   "metadata": {},
   "outputs": [
    {
     "data": {
      "text/plain": [
       "()"
      ]
     },
     "execution_count": 40,
     "metadata": {},
     "output_type": "execute_result"
    }
   ],
   "source": [
    "informacion_personal()"
   ]
  },
  {
   "cell_type": "code",
   "execution_count": 35,
   "metadata": {},
   "outputs": [
    {
     "name": "stdout",
     "output_type": "stream",
     "text": [
      "('fabian', 22)\n",
      "{'ocupacion': 'dev', 'gustos': 'ciclismo, viajar'}\n"
     ]
    }
   ],
   "source": [
    "informacion_personal(\"fabian\", 22, ocupacion = \"dev\", gustos = \"ciclismo, viajar\")"
   ]
  },
  {
   "cell_type": "code",
   "execution_count": 36,
   "metadata": {},
   "outputs": [],
   "source": [
    "info_basica = ('fabian', 22)\n",
    "gustos = {'ocupacion': 'dev', 'gustos': 'ciclismo, viajar'}"
   ]
  },
  {
   "cell_type": "code",
   "execution_count": 38,
   "metadata": {},
   "outputs": [
    {
     "name": "stdout",
     "output_type": "stream",
     "text": [
      "('fabian', 22)\n",
      "{'ocupacion': 'dev', 'gustos': 'ciclismo, viajar'}\n"
     ]
    }
   ],
   "source": [
    "informacion_personal(*info_basica, **gustos)"
   ]
  },
  {
   "cell_type": "markdown",
   "metadata": {},
   "source": [
    "### puedo llamar funciones dentro de funciones"
   ]
  },
  {
   "cell_type": "code",
   "execution_count": 45,
   "metadata": {},
   "outputs": [],
   "source": [
    "def sumar(a, b): #recibe un parametro a y un parametro b Estos paraámetros son posicionales\n",
    "  return a + b"
   ]
  },
  {
   "cell_type": "code",
   "execution_count": 50,
   "metadata": {},
   "outputs": [],
   "source": [
    "def calculadora_suma (a,b,suma = None):\n",
    "    if suma:\n",
    "        print (\"vamos a sumar tus valores ingresados: {0}, {1}\".format(a,b))\n",
    "        resultado = sumar(a,b)\n",
    "        print (\"El resultado es: {0}\".format(resultado))\n",
    "        return resultado\n"
   ]
  },
  {
   "cell_type": "code",
   "execution_count": 51,
   "metadata": {},
   "outputs": [
    {
     "name": "stdout",
     "output_type": "stream",
     "text": [
      "vamos a sumar tus valores ingresados: 5, 2\n",
      "El resultado es: 7\n"
     ]
    },
    {
     "data": {
      "text/plain": [
       "7"
      ]
     },
     "execution_count": 51,
     "metadata": {},
     "output_type": "execute_result"
    }
   ],
   "source": [
    "calculadora_suma(5,2, suma= True)"
   ]
  },
  {
   "cell_type": "markdown",
   "metadata": {},
   "source": [
    "## Puedo importar funciones desde otros archivos que esten al mismo nivel"
   ]
  },
  {
   "cell_type": "code",
   "execution_count": 52,
   "metadata": {},
   "outputs": [],
   "source": [
    "# En este caso importaremos el archivo funciones.py\n",
    "import funciones"
   ]
  },
  {
   "cell_type": "code",
   "execution_count": 54,
   "metadata": {},
   "outputs": [],
   "source": [
    "suma = funciones.sumar(5,3)"
   ]
  },
  {
   "cell_type": "code",
   "execution_count": 55,
   "metadata": {},
   "outputs": [
    {
     "name": "stdout",
     "output_type": "stream",
     "text": [
      "8\n"
     ]
    }
   ],
   "source": [
    "print (suma)"
   ]
  }
 ],
 "metadata": {
  "interpreter": {
   "hash": "2ffc68a898cdf6ae2d053613cdf1702dd2070bde6aa15cd9ac7af3dacdaf0735"
  },
  "kernelspec": {
   "display_name": "Python 3.7.10 64-bit ('arcgispro-py3': conda)",
   "name": "python3"
  },
  "language_info": {
   "codemirror_mode": {
    "name": "ipython",
    "version": 3
   },
   "file_extension": ".py",
   "mimetype": "text/x-python",
   "name": "python",
   "nbconvert_exporter": "python",
   "pygments_lexer": "ipython3",
   "version": "3.7.10"
  },
  "orig_nbformat": 4
 },
 "nbformat": 4,
 "nbformat_minor": 2
}
