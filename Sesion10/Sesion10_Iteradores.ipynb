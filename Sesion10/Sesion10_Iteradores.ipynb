{
 "cells": [
  {
   "cell_type": "markdown",
   "metadata": {},
   "source": [
    "#  Iteradores o ciclos o bucles"
   ]
  },
  {
   "cell_type": "markdown",
   "metadata": {},
   "source": [
    "Un **iterador** en Python es una **función** que nos permite ejecutar una acción un número determinado de veces hasta que se cumpla una condición o **incluso de manera infinita**.\n",
    "\n",
    "Un ejemplo de aplicar acciones infinitas\n"
   ]
  },
  {
   "cell_type": "code",
   "execution_count": null,
   "metadata": {},
   "outputs": [],
   "source": [
    "import IPython\n",
    "url='https://www.youtube.com/embed/BGryZFh1Wq8?controls=0'\n",
    "width=800\n",
    "height=400\n",
    "IPython.display.IFrame(url,width,height)"
   ]
  },
  {
   "cell_type": "markdown",
   "metadata": {},
   "source": [
    "Para utilizar un iterador python es bastante sencillo. Para ello utilizaremos la funcion **iter()** que recibe como parametro una lista asi:\n",
    "\n",
    "**iter(parametro)**\n",
    "\n",
    "Esta funcion, tiene un metodo que nos permite recorrer la lista que se llama **next()**. Este metodo recibe por parámetro nuestro iterador y cada vez que se ejecuta, incrementa el número de la posición en la que la iteración se encuentra.\n",
    "\n",
    "Ejemplo:"
   ]
  },
  {
   "cell_type": "code",
   "execution_count": null,
   "metadata": {},
   "outputs": [],
   "source": [
    "numeros = iter([1, 2, 3, 4])  #Aqui le paso como parametro una lista de números\n",
    "print(next(num))\n",
    "print(next(num))\n",
    "print(next(num))\n",
    "print(next(num))"
   ]
  },
  {
   "cell_type": "markdown",
   "metadata": {},
   "source": [
    "Los iteradores los vamos a trabajar con dos sentencias principalmente, la sentencia **for** o tambien conocida como **para** y la sentencia **While** o **mientras que**"
   ]
  },
  {
   "cell_type": "markdown",
   "metadata": {},
   "source": [
    "### Sentencia for o ciclo for (para)\n",
    "\n",
    "Los ciclos **for** son una estructura de control cíclica. Nos permiten ejecutar una o varias líneas de código de forma iterativa (o repetitiva), pero teniendo cierto control y conocimiento sobre las iteraciones. En el ciclo for en Python, es necesario tener un valor inicial y un valor final, y opcionalmente podemos hacer uso del tamaño del \"paso\" entre cada \"giro\" o iteración del ciclo.\n",
    "\n",
    "El bucle **for** se utiliza para recorrer los elementos de un objeto iterable (lista, tupla, conjunto, diccionario, …) y ejecutar un bloque de código. En cada paso de la iteración se tiene en cuenta a un único elemento del objeto iterable, sobre el cuál se pueden aplicar una serie de operaciones.\n",
    "\n",
    "Su sintaxis es la siguiente:\n",
    "\n",
    "for **elemento>** in **objeto_iterable**:<br>\n",
    "**codigo**\n",
    "\n",
    "Veamos un ejemplo con listas:"
   ]
  },
  {
   "cell_type": "code",
   "execution_count": null,
   "metadata": {},
   "outputs": [],
   "source": [
    "numeros = [4, 78, 9, 84]\n",
    "for numero in numeros:\n",
    "    print(numero)"
   ]
  },
  {
   "cell_type": "markdown",
   "metadata": {},
   "source": [
    "Ahora veamos un ejemplo con diccionarios"
   ]
  },
  {
   "cell_type": "code",
   "execution_count": null,
   "metadata": {},
   "outputs": [],
   "source": [
    "notas = {'Parcial_1': 4, 'Parcial_2': 4, 'Parcial_3': 2, 'Nota_final': 3.4}\n",
    "for i in notas:\n",
    "    print(i)"
   ]
  },
  {
   "cell_type": "markdown",
   "metadata": {},
   "source": [
    "si queremos retornar los valores del dicionario:\n"
   ]
  },
  {
   "cell_type": "code",
   "execution_count": null,
   "metadata": {},
   "outputs": [],
   "source": [
    "for i in notas.values():\n",
    "    print(i)"
   ]
  },
  {
   "cell_type": "markdown",
   "metadata": {},
   "source": [
    "Ahora todo el diccionario:"
   ]
  },
  {
   "cell_type": "code",
   "execution_count": null,
   "metadata": {},
   "outputs": [],
   "source": [
    "for i,k in notas.items():\n",
    "    print(\"Llave: {} - Valor: {}\".format(i,k))"
   ]
  },
  {
   "cell_type": "markdown",
   "metadata": {},
   "source": [
    "Tambien podemos imprimir de la siguiente forma:"
   ]
  },
  {
   "cell_type": "code",
   "execution_count": null,
   "metadata": {},
   "outputs": [],
   "source": [
    "for i,k in notas.items():\n",
    "    print(\"{}: {}\".format(i,k))"
   ]
  },
  {
   "cell_type": "markdown",
   "metadata": {},
   "source": [
    "Ahora veamos un ejemplo utilizando rangos. Como vimos en una clase anterior, **Range()** nos permite crear una secuencia de números enteros inmutables, esto quiere decir que una vez creada la secuencia no podremos modificarla.\n",
    "\n",
    "Para declarar una secuencia range, podemos declarar una variable que será igual a la clase range y por ejemplo, si queremos crear una secuencia desde 0 hasta N tamaño pasaremos el tamaño total que tendrá la secuencia por parámetro. Esta empezará siempre desde el número 0 y el valor final de la secuencia será N - 1.\n",
    "\n",
    "Veamos un ejemplo:"
   ]
  },
  {
   "cell_type": "code",
   "execution_count": null,
   "metadata": {},
   "outputs": [],
   "source": [
    "rango1 = range(10)\n",
    "\n",
    "for numero in rango1:\n",
    "    print(numero)"
   ]
  },
  {
   "cell_type": "markdown",
   "metadata": {},
   "source": [
    "En este caso el rango va de 0 hasta 9(N-1 o 10-1), si quisieramos mostrar los numero entre un rango especifico, entonces lo hacemos asi:\n",
    "    "
   ]
  },
  {
   "cell_type": "code",
   "execution_count": null,
   "metadata": {},
   "outputs": [],
   "source": [
    "rango2 = range(1,11)\n",
    "\n",
    "for numero2 in rango2:\n",
    "    print(numero2)"
   ]
  },
  {
   "cell_type": "markdown",
   "metadata": {},
   "source": [
    "Ahora si quieremos que este aumente en un numero diferente a 1, entonces hacemos lo siguiente:"
   ]
  },
  {
   "cell_type": "code",
   "execution_count": null,
   "metadata": {},
   "outputs": [],
   "source": [
    "rango3 = range(1,30,4)\n",
    "\n",
    "for numero3 in rango3:\n",
    "    print(numero3)"
   ]
  },
  {
   "cell_type": "markdown",
   "metadata": {},
   "source": [
    "Un ejemplo simplificado sin crear la variable rango seria asi:"
   ]
  },
  {
   "cell_type": "code",
   "execution_count": null,
   "metadata": {},
   "outputs": [],
   "source": [
    "for numero4 in range(1, 11):\n",
    "    print(numero4)"
   ]
  },
  {
   "cell_type": "markdown",
   "metadata": {},
   "source": [
    "Ahora veamos un ejemplo con cadenas."
   ]
  },
  {
   "cell_type": "code",
   "execution_count": null,
   "metadata": {},
   "outputs": [],
   "source": [
    "nombre=\"Esri\"\n",
    "for n in nombre:\n",
    "    print(n)"
   ]
  },
  {
   "cell_type": "markdown",
   "metadata": {},
   "source": [
    "### Conclusiones:\n",
    "\n",
    "Generalmente el ciclo for se usa cuando:\n",
    "1. Conozco el tamaño de una lista\n",
    "2. Conozco el numero de veces que el ciclo debe iterar.\n",
    "3. Conozco el rango de elementos en el cual se va a iterar.\n",
    "\n",
    "En conclusion puedo saber de antemano el numero de veces que posiblemente va a iterar el codigo."
   ]
  },
  {
   "cell_type": "markdown",
   "metadata": {},
   "source": [
    "### Sentencia while o ciclo while (mientras que)\n",
    "\n",
    "Los ciclos **while** son una estructura cíclica, que nos permite ejecutar una o varias líneas de código de manera repetitiva sin necesidad de tener un valor inicial e incluso a veces sin conocer cuando se va a dar el valor final que esperamos.\n",
    "\n",
    "A diferencia del ciclo **for**, trabaja bajo un condición que no sabremos hasta que momento se cumplira y permitira la ejecucion de nuestro codigo x cantidad de veces. Realmente sera algo indeterminado para nosotros. Sin embargo, el ciclo while nos permite ejecutar una acción de forma \"infinita\" hasta que se cumpla alguna condición específica.\n",
    "\n",
    "Su sintaxis es la siguiente:\n",
    "\n",
    "while **condición**:<br>\n",
    "**codigo**\n",
    "\n",
    "Veamos un ejemplo con listas:\n",
    "\n"
   ]
  },
  {
   "cell_type": "code",
   "execution_count": null,
   "metadata": {},
   "outputs": [],
   "source": [
    "numeros = [4, 78, 9, 84, 23] \n",
    "#como podemos ver la lista tiene 5 elementos o podemos usar la funcion len() para corroborar\n",
    "longitud=len(numeros)\n",
    "print(\"El tamaño de la lista numeros es {}\".format(longitud))\n"
   ]
  },
  {
   "cell_type": "markdown",
   "metadata": {},
   "source": [
    "Ahora vamos recorrer la lista hasta que el numero de la lista sea 84. En este punto podemos apreciar que esta en la posicion 3. Recuerden que en python la listas empiezan en la posicion cero(0). En una lista mas grande, tal vez de 1000 elementos, no podremos determinar en que posición se encuentra. Para este caso usamos el **while**."
   ]
  },
  {
   "cell_type": "code",
   "execution_count": null,
   "metadata": {},
   "outputs": [],
   "source": [
    "i=0\n",
    "while numeros[i]!=84:\n",
    "    print(numeros[i])"
   ]
  },
  {
   "cell_type": "markdown",
   "metadata": {},
   "source": [
    "Aqui debemos tener en cuenta algo importante. El while no es autoincremental. Recuerden que el while trabaja en función de una condición. Por lo tanto el incremento lo debemos hacer manual. Esto permitira al ciclo que itere o avance a lo largo de la lista o del objeto que queremos evaluar o simplemente mostrar.\n",
    "\n",
    "#### En el ejemplo anterior se quedo en un bucle infinito"
   ]
  },
  {
   "cell_type": "code",
   "execution_count": null,
   "metadata": {},
   "outputs": [],
   "source": [
    "i=0\n",
    "while numeros[i]!=84:\n",
    "    print(numeros[i])\n",
    "    i+=1"
   ]
  },
  {
   "cell_type": "markdown",
   "metadata": {},
   "source": [
    "Ahora miremos un ejemplo con un rango. A diferencia del for, este rango lo debemos dar manual. Indicarle al ciclo a traves de una condición como va a operar.\n",
    "\n",
    "Queremos imprimir los numeros del 4 hasta el 16."
   ]
  },
  {
   "cell_type": "code",
   "execution_count": null,
   "metadata": {},
   "outputs": [],
   "source": [
    "i=4\n",
    "while i<=16:\n",
    "    print(i)\n",
    "    i+=1"
   ]
  },
  {
   "cell_type": "markdown",
   "metadata": {},
   "source": [
    "### Conclusiones:\n",
    "\n",
    "Generalmente el ciclo while se usa cuando:\n",
    "1. No conozco el tamaño de una lista\n",
    "2. No conozco el numero de veces que el ciclo debe iterar.\n",
    "3. El ciclo debe iterar hasta que una condicion se cumpla.\n",
    "\n",
    "En la proxima sesión vamos a ver el las instrucciones **break y continue** que se utilizan bastante en los ciclos."
   ]
  },
  {
   "cell_type": "markdown",
   "metadata": {},
   "source": [
    "### Uso de Else en los ciclos while\n",
    "\n",
    "El else puede utilizarse para indicar algun valor, mensaje adicional o estado de las variables. Es poco utilizado, ya que cuando un bucle finaliza, su utilidad ha llegado a su máximo y lo que nos interesa es el resultado de la operación. \n",
    "\n",
    "Ejemplo: queremos conocer cual fue el valor final de la i."
   ]
  },
  {
   "cell_type": "code",
   "execution_count": null,
   "metadata": {},
   "outputs": [],
   "source": [
    "i=4\n",
    "while i<=16:\n",
    "    print(i)\n",
    "    i+=1\n",
    "else:\n",
    "    print(\"El ciclo finalizo y la i vale {}\".format(i))"
   ]
  },
  {
   "cell_type": "markdown",
   "metadata": {},
   "source": [
    "## #Ejercicio 1\n",
    "\n",
    "Mostrar en pantalla la tabla de multiplicar del 7 asi:\n",
    "7 x 1 = 7 <br>\n",
    "7 x 2 = 14 <br>\n",
    ". <br>\n",
    ". <br>\n",
    ". <br>\n"
   ]
  },
  {
   "cell_type": "code",
   "execution_count": null,
   "metadata": {},
   "outputs": [],
   "source": []
  }
 ],
 "metadata": {
  "kernelspec": {
   "display_name": "Python 3",
   "language": "python",
   "name": "python3"
  },
  "language_info": {
   "codemirror_mode": {
    "name": "ipython",
    "version": 3
   },
   "file_extension": ".py",
   "mimetype": "text/x-python",
   "name": "python",
   "nbconvert_exporter": "python",
   "pygments_lexer": "ipython3",
   "version": "3.7.9"
  }
 },
 "nbformat": 4,
 "nbformat_minor": 2
}
